{
  "cells": [
    {
      "cell_type": "code",
      "execution_count": null,
      "metadata": {
        "id": "IpauR08YvaZl"
      },
      "outputs": [],
      "source": [
        "# 초단기 실황 조회"
      ]
    },
    {
      "cell_type": "code",
      "execution_count": null,
      "metadata": {
        "id": "u1CUDQHIFVc8"
      },
      "outputs": [],
      "source": [
        "import requests\n",
        "from datetime import datetime, timedelta\n",
        "from pytz import timezone\n",
        "import pandas as pd\n",
        "\n",
        "def get_weather_data():\n",
        "    while True:\n",
        "        try:\n",
        "            # 한국\n",
        "            KST = timezone('Asia/Seoul')\n",
        "\n",
        "            url = \"http://apis.data.go.kr/1360000/VilageFcstInfoService/getUltraSrtNcst\"\n",
        "            service_key = \"wO9XsANP1Nt9zBBV1WlwVtpfusq7uJZzkoRJjkfjIQxkgaf9X%2FbBCYOCgaS60vye6TNtlhmP1yhL%2Fm9NojPLFw%3D%3D\"\n",
        "\n",
        "            # 웹 요청할 base_date, base_time 계산\n",
        "            now = datetime.now() # 현재 시각 데이터 생성\n",
        "            now = now.astimezone(KST)\n",
        "\n",
        "            # 40분 이전이면 현재 시보다 1시간 전 `base_time`을 요청\n",
        "            if now.minute <= 40:\n",
        "                # 단. 00:40분 이전이라면 `base_date`는 전날이고 `base_time`은 2300\n",
        "                if now.hour == 0 :\n",
        "                    base_date = (now-timedelta(days=1)).strftime('%Y%m%d')\n",
        "                    base_time = '2300'\n",
        "                else:\n",
        "                    base_date = now.strftime('%Y%m%d')\n",
        "                    base_time = (now-timedelta(hours=1)).strftime('%H00')\n",
        "            # 40분 이후면 현재 시와 같은 `base_time`을 요청\n",
        "            else:\n",
        "                base_date = base_date = now.strftime('%Y%m%d')\n",
        "                base_time = now.strftime('%H00')\n",
        "\n",
        "            # 웹 요청시 같이 전달될 데이터 = 요청 메시지\n",
        "            params = {\n",
        "                'serviceKey' : service_key,\n",
        "                'numOfRows' : 30,\n",
        "                'pageNo' : 1,\n",
        "                'dataType' : 'JSON',\n",
        "                'base_date' : base_date,\n",
        "                'base_time' : base_time,\n",
        "                'nx' : 60, # 서울 기상관측소(종로구)\n",
        "                'ny' : 127\n",
        "            }\n",
        "\n",
        "            res = requests.get(url=url , params=params)\n",
        "            # res.raise_for_status()\n",
        "\n",
        "            # response 데이터 정리\n",
        "            data = res.json()['response']['body']['items']['item']\n",
        "\n",
        "\n",
        "            categorys = {\n",
        "                'T1H':'기온',\n",
        "                'RN1':'1시간 강수량',\n",
        "                'UUU':'동서바람성분',\n",
        "                'VVV':'남북바람성분',\n",
        "                'REH':'습도',\n",
        "                'PTY':'강수형태',\n",
        "                'VEC':'풍향',\n",
        "                'WSD':'풍속',\n",
        "            }\n",
        "\n",
        "            # 최종 데이터 생성(dict)\n",
        "            results = {}\n",
        "            results['date'] = datetime.strptime(base_date+base_time, \"%Y%m%d%H%M\").strftime(\"%Y-%m-%d %H:%M:%S\")\n",
        "            for d in data:\n",
        "                results[categorys[d['category']]] = d['obsrValue']\n",
        "\n",
        "            # 필요한 데이터 추출 및 DF 변환\n",
        "            filtered_data = {\n",
        "                'date': results['date'],\n",
        "                'temp': results['기온'],\n",
        "                'mm': results['1시간 강수량'],\n",
        "                'ws': results['풍속'],\n",
        "                'humidity': results['습도']\n",
        "            }\n",
        "            convert_data = pd.DataFrame(filtered_data, index=[0])\n",
        "\n",
        "            if not convert_data.empty:\n",
        "                return convert_data\n",
        "\n",
        "        except Exception as e:  # 통신 등의 이유로 에러 발생 시, 다시 시도\n",
        "            print('Re-Try')"
      ]
    },
    {
      "cell_type": "code",
      "execution_count": null,
      "metadata": {
        "colab": {
          "base_uri": "https://localhost:8080/"
        },
        "id": "vvg8rf0GGeJD",
        "outputId": "e6781ebb-856a-448b-f4b5-fd9af366c7e7"
      },
      "outputs": [
        {
          "name": "stdout",
          "output_type": "stream",
          "text": [
            "                  date  temp mm   ws humidity\n",
            "0  2024-05-11 23:00:00  14.1  0  0.7       93\n"
          ]
        }
      ],
      "source": [
        "# 실행\n",
        "weather_data = get_weather_data()\n",
        "print(weather_data)"
      ]
    },
    {
      "cell_type": "code",
      "execution_count": null,
      "metadata": {
        "id": "XimJaO5TE1P0"
      },
      "outputs": [],
      "source": [
        "# pytorch(baseline)"
      ]
    },
    {
      "cell_type": "code",
      "execution_count": null,
      "metadata": {
        "colab": {
          "base_uri": "https://localhost:8080/"
        },
        "id": "dqSxEBEjIwhv",
        "outputId": "011c3dd7-e7f5-4466-cb4b-d5d7887cb903"
      },
      "outputs": [
        {
          "data": {
            "text/plain": [
              "torch.Size([17497, 24, 4])"
            ]
          },
          "execution_count": 5,
          "metadata": {},
          "output_type": "execute_result"
        }
      ],
      "source": [
        "X.shape"
      ]
    },
    {
      "cell_type": "code",
      "execution_count": null,
      "metadata": {
        "colab": {
          "base_uri": "https://localhost:8080/"
        },
        "id": "mfnpldyaE1Un",
        "outputId": "d3375a1b-c2a3-4cd3-aace-ca8ff49936b9"
      },
      "outputs": [
        {
          "name": "stderr",
          "output_type": "stream",
          "text": [
            "/usr/local/lib/python3.10/dist-packages/torch/nn/modules/loss.py:535: UserWarning: Using a target size (torch.Size([14016])) that is different to the input size (torch.Size([14016, 1])). This will likely lead to incorrect results due to broadcasting. Please ensure they have the same size.\n",
            "  return F.mse_loss(input, target, reduction=self.reduction)\n",
            "/usr/local/lib/python3.10/dist-packages/torch/nn/modules/loss.py:535: UserWarning: Using a target size (torch.Size([3481])) that is different to the input size (torch.Size([3481, 1])). This will likely lead to incorrect results due to broadcasting. Please ensure they have the same size.\n",
            "  return F.mse_loss(input, target, reduction=self.reduction)\n"
          ]
        },
        {
          "name": "stdout",
          "output_type": "stream",
          "text": [
            "Epoch [10/10], Train Loss: 0.1062, Val Loss: 0.1003\n",
            "[0.00289799 0.00289799 0.00289799 ... 0.00289799 0.00289799 0.00289799]\n"
          ]
        }
      ],
      "source": [
        "import torch\n",
        "import torch.nn as nn\n",
        "import numpy as np\n",
        "import pandas as pd\n",
        "from sklearn.preprocessing import MinMaxScaler\n",
        "\n",
        "# 임의의 데이터 생성\n",
        "np.random.seed(0)\n",
        "date_range = pd.date_range(start='2022-01-01', end='2024-01-01', freq='H')\n",
        "data = pd.DataFrame({\n",
        "    'date': date_range,\n",
        "    'temp': np.random.uniform(0, 40, len(date_range)),  # 온도\n",
        "    'mm': np.random.uniform(0, 20, len(date_range)),    # 강수량\n",
        "    'ws': np.random.uniform(0, 10, len(date_range)),    # 풍속\n",
        "    'humidity': np.random.uniform(0, 100, len(date_range))  # 습도\n",
        "})\n",
        "\n",
        "# 데이터를 정규화\n",
        "scaler = MinMaxScaler()\n",
        "scaled_data = scaler.fit_transform(data[['temp', 'mm', 'ws', 'humidity']])\n",
        "\n",
        "# 시계열 데이터를 LSTM 입력 형식으로 변환\n",
        "def create_sequences(data, time_steps):\n",
        "    X, Y = [], []\n",
        "    for i in range(len(data) - time_steps):\n",
        "        X.append(data[i:i+time_steps, :])\n",
        "        Y.append(data[i+time_steps, 0])  # 온도는 1번째 열\n",
        "    return torch.tensor(X).float(), torch.tensor(Y).float()\n",
        "\n",
        "time_steps = 24  # 24시간을 한 묶음으로 입력\n",
        "X, Y = create_sequences(scaled_data, time_steps)\n",
        "\n",
        "# 데이터셋 분할 (Train/Test)\n",
        "split = int(0.8 * len(data))\n",
        "X_train, X_test = X[:split], X[split:]\n",
        "Y_train, Y_test = Y[:split], Y[split:]\n",
        "\n",
        "# LSTM 모델 정의\n",
        "class LSTMModel(nn.Module):\n",
        "    def __init__(self, input_size, hidden_size, num_layers=1):\n",
        "        super(LSTMModel, self).__init__()\n",
        "        self.lstm = nn.LSTM(input_size, hidden_size, num_layers, batch_first=True)\n",
        "        self.fc = nn.Linear(hidden_size, 1)\n",
        "\n",
        "    def forward(self, x):\n",
        "        out, _ = self.lstm(x)\n",
        "        out = self.fc(out[:, -1, :])\n",
        "        return out\n",
        "\n",
        "# 모델 초기화\n",
        "input_size = X.shape[2]\n",
        "hidden_size = 50\n",
        "num_layers = 1\n",
        "model = LSTMModel(input_size, hidden_size, num_layers)\n",
        "\n",
        "# 손실 함수 및 최적화 함수\n",
        "criterion = nn.MSELoss()\n",
        "optimizer = torch.optim.Adam(model.parameters(), lr=0.001)\n",
        "\n",
        "# Early stopping 관련 변수 설정\n",
        "best_loss = float('inf')\n",
        "patience = 5  # for early stopping\n",
        "counter = 0\n",
        "\n",
        "# 모델 훈련\n",
        "num_epochs = 10\n",
        "for epoch in range(num_epochs):\n",
        "    model.train()\n",
        "    optimizer.zero_grad()\n",
        "    outputs = model(X_train)\n",
        "    loss = criterion(outputs, Y_train)\n",
        "    loss.backward()\n",
        "    optimizer.step()\n",
        "\n",
        "    # 검증 데이터에 대한 손실 계산\n",
        "    model.eval()\n",
        "    with torch.no_grad():\n",
        "        val_outputs = model(X_test)\n",
        "        val_loss = criterion(val_outputs, Y_test)\n",
        "\n",
        "    # 손실이 감소하면 모델 저장\n",
        "    if val_loss < best_loss:\n",
        "        best_loss = val_loss\n",
        "        counter = 0\n",
        "        torch.save(model.state_dict(), 'best_model.pt')\n",
        "    else:\n",
        "        counter += 1\n",
        "\n",
        "    # 조기 종료\n",
        "    if counter >= patience:\n",
        "        print(f'Early stopping at epoch {epoch+1}')\n",
        "        break\n",
        "\n",
        "    if (epoch+1) % 10 == 0:\n",
        "        print(f'Epoch [{epoch+1}/{num_epochs}], Train Loss: {loss.item():.4f}, Val Loss: {val_loss.item():.4f}')\n",
        "\n",
        "# 모델 로드\n",
        "model.load_state_dict(torch.load('best_model.pt'))\n",
        "\n",
        "# 모델 평가\n",
        "model.eval()\n",
        "with torch.no_grad():\n",
        "    predicted_temp = model(X_test).numpy()\n",
        "\n",
        "# 예측값을 실제 값의 스케일로 변환\n",
        "predicted_temp = scaler.inverse_transform(np.hstack((np.zeros((len(predicted_temp), 3)), np.array(predicted_temp).reshape(-1, 1)))).T[0]\n",
        "\n",
        "# 예측값 출력\n",
        "print(predicted_temp)\n"
      ]
    }
  ],
  "metadata": {
    "colab": {
      "provenance": []
    },
    "kernelspec": {
      "display_name": "Python 3",
      "name": "python3"
    },
    "language_info": {
      "name": "python",
      "version": "3.11.9"
    }
  },
  "nbformat": 4,
  "nbformat_minor": 0
}
